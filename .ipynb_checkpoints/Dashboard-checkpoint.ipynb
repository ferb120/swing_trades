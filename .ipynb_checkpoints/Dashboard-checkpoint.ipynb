{
 "cells": [
  {
   "cell_type": "code",
   "execution_count": 1,
   "id": "58087721",
   "metadata": {},
   "outputs": [
    {
     "data": {
      "application/vnd.jupyter.widget-view+json": {
       "model_id": "ef692ad55ba2482bb1a12b5c26d977a7",
       "version_major": 2,
       "version_minor": 0
      },
      "text/plain": [
       "interactive(children=(Dropdown(description='year', options=('2024',), value='2024'), Output()), _dom_classes=(…"
      ]
     },
     "metadata": {},
     "output_type": "display_data"
    }
   ],
   "source": [
    "from ipywidgets import interact\n",
    "from classes.Position import Position\n",
    "import os, json\n",
    "\n",
    "PATH_TRADES = \"trades/\"\n",
    "years = os.listdir(PATH_TRADES)\n",
    "POSITION = None\n",
    "\n",
    "@interact\n",
    "def year(year=years):\n",
    "    current_dir = PATH_TRADES + str(year) + \"/\"\n",
    "    months = os.listdir(current_dir)\n",
    "    \n",
    "\n",
    "    @interact\n",
    "    def month(month=months):\n",
    "        current_dir = PATH_TRADES + str(year) + \"/\" + str(month) + \"/\"\n",
    "        positions = os.listdir(current_dir)\n",
    "        \n",
    "        \n",
    "        @interact\n",
    "        def position(position= positions): \n",
    "            global POSITION\n",
    "            # Display Position\n",
    "            current_dir = PATH_TRADES + str(year) + \"/\" + str(month) + \"/\"\n",
    "            with open(current_dir+position, \"r\") as file: \n",
    "                obj = json.load(file)\n",
    "                POSITION = Position(obj)\n"
   ]
  },
  {
   "cell_type": "code",
   "execution_count": 5,
   "id": "1a6837e9",
   "metadata": {},
   "outputs": [
    {
     "name": "stdout",
     "output_type": "stream",
     "text": [
      "weekly\n",
      "              name  daily weekly monthly\n",
      "0     stacked_emas   True   True    True\n",
      "1  broke_trendline  False  False   False\n",
      "2  touching_21_ema   True  False   False\n",
      "3   orange_squeeze      5      5       0\n",
      "4      red_squeeze     19     24       0\n",
      "5  slow_buy_signal      5      8       1\n",
      "6   obv_increasing      1      2       1\n"
     ]
    }
   ],
   "source": [
    "print(POSITION.time_frame)\n",
    "\n",
    "df = POSITION.confluences_to_df()\n",
    "print(df)"
   ]
  },
  {
   "cell_type": "code",
   "execution_count": null,
   "id": "1f979889",
   "metadata": {},
   "outputs": [],
   "source": []
  }
 ],
 "metadata": {
  "kernelspec": {
   "display_name": "Python 3 (ipykernel)",
   "language": "python",
   "name": "python3"
  },
  "language_info": {
   "codemirror_mode": {
    "name": "ipython",
    "version": 3
   },
   "file_extension": ".py",
   "mimetype": "text/x-python",
   "name": "python",
   "nbconvert_exporter": "python",
   "pygments_lexer": "ipython3",
   "version": "3.10.12"
  }
 },
 "nbformat": 4,
 "nbformat_minor": 5
}
